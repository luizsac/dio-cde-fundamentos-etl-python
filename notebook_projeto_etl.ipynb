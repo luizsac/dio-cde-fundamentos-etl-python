{
 "metadata": {
  "language_info": {
   "codemirror_mode": {
    "name": "ipython",
    "version": 3
   },
   "file_extension": ".py",
   "mimetype": "text/x-python",
   "name": "python",
   "nbconvert_exporter": "python",
   "pygments_lexer": "ipython3",
   "version": "3.8.8"
  },
  "orig_nbformat": 4,
  "kernelspec": {
   "name": "python3",
   "display_name": "Python 3.8.8 64-bit ('base': conda)"
  },
  "interpreter": {
   "hash": "8a1dc5efcdbc80be4ce3e96a600c5a7e8bdbf2570da378044fe339c19ce4fdea"
  }
 },
 "nbformat": 4,
 "nbformat_minor": 2,
 "cells": [
  {
   "source": [
    "# Carrefour Data Engineer Bootcamp\n",
    "## Fundamentos de ETL com Python\n",
    "### Dataset: Ocorrências Aeronáuticas\n",
    "http://sistema.cenipa.aer.mil.br/cenipa/media/opendata/ocorrencia_2010_2020.csv\n",
    "\n"
   ],
   "cell_type": "markdown",
   "metadata": {}
  },
  {
   "source": [
    "### Importando bibliotecas necessárias"
   ],
   "cell_type": "markdown",
   "metadata": {}
  },
  {
   "cell_type": "code",
   "execution_count": 50,
   "metadata": {},
   "outputs": [],
   "source": [
    "import pandas as pd\n",
    "import pandera as pa"
   ]
  },
  {
   "source": [
    "---\n",
    "# Extração"
   ],
   "cell_type": "markdown",
   "metadata": {}
  },
  {
   "source": [
    "### Lendo arquivo csv"
   ],
   "cell_type": "markdown",
   "metadata": {}
  },
  {
   "cell_type": "code",
   "execution_count": 69,
   "metadata": {},
   "outputs": [
    {
     "output_type": "execute_result",
     "data": {
      "text/plain": [
       "   codigo_ocorrencia  codigo_ocorrencia1  codigo_ocorrencia2  \\\n",
       "0              40211               40211               40211   \n",
       "1              40349               40349               40349   \n",
       "2              40351               40351               40351   \n",
       "3              39527               39527               39527   \n",
       "4              40324               40324               40324   \n",
       "\n",
       "   codigo_ocorrencia3  codigo_ocorrencia4 ocorrencia_classificacao  \\\n",
       "0               40211               40211                INCIDENTE   \n",
       "1               40349               40349                INCIDENTE   \n",
       "2               40351               40351                INCIDENTE   \n",
       "3               39527               39527                 ACIDENTE   \n",
       "4               40324               40324                INCIDENTE   \n",
       "\n",
       "  ocorrencia_latitude ocorrencia_longitude   ocorrencia_cidade ocorrencia_uf  \\\n",
       "0                 NaN                  NaN      RIO DE JANEIRO            RJ   \n",
       "1                 NaN                  NaN               BELÉM            PA   \n",
       "2                 NaN                  NaN      RIO DE JANEIRO            RJ   \n",
       "3      -13.1066666667       -55.9930555556  LUCAS DO RIO VERDE            MT   \n",
       "4                 NaN                  NaN             PELOTAS            RS   \n",
       "\n",
       "   ... ocorrencia_dia ocorrencia_hora investigacao_aeronave_liberada  \\\n",
       "0  ...     2010-01-03        12:00:00                            SIM   \n",
       "1  ...     2010-01-03        11:05:00                            SIM   \n",
       "2  ...     2010-01-03        03:00:00                            SIM   \n",
       "3  ...     2010-01-04        17:30:00                            SIM   \n",
       "4  ...     2010-01-05        19:25:00                            SIM   \n",
       "\n",
       "  investigacao_status divulgacao_relatorio_numero  \\\n",
       "0          FINALIZADA                         NaN   \n",
       "1          FINALIZADA                         NaN   \n",
       "2          FINALIZADA                         NaN   \n",
       "3          FINALIZADA           A-539/CENIPA/2018   \n",
       "4          FINALIZADA                         NaN   \n",
       "\n",
       "  divulgacao_relatorio_publicado divulgacao_dia_publicacao  \\\n",
       "0                            NÃO                       NaN   \n",
       "1                            NÃO                       NaN   \n",
       "2                            NÃO                       NaN   \n",
       "3                            SIM                2019-10-28   \n",
       "4                            NÃO                       NaN   \n",
       "\n",
       "  total_recomendacoes total_aeronaves_envolvidas  ocorrencia_saida_pista  \n",
       "0                   0                          1                     NÃO  \n",
       "1                   0                          1                     NÃO  \n",
       "2                   0                          1                     NÃO  \n",
       "3                   0                          1                     NÃO  \n",
       "4                   0                          1                     NÃO  \n",
       "\n",
       "[5 rows x 22 columns]"
      ],
      "text/html": "<div>\n<style scoped>\n    .dataframe tbody tr th:only-of-type {\n        vertical-align: middle;\n    }\n\n    .dataframe tbody tr th {\n        vertical-align: top;\n    }\n\n    .dataframe thead th {\n        text-align: right;\n    }\n</style>\n<table border=\"1\" class=\"dataframe\">\n  <thead>\n    <tr style=\"text-align: right;\">\n      <th></th>\n      <th>codigo_ocorrencia</th>\n      <th>codigo_ocorrencia1</th>\n      <th>codigo_ocorrencia2</th>\n      <th>codigo_ocorrencia3</th>\n      <th>codigo_ocorrencia4</th>\n      <th>ocorrencia_classificacao</th>\n      <th>ocorrencia_latitude</th>\n      <th>ocorrencia_longitude</th>\n      <th>ocorrencia_cidade</th>\n      <th>ocorrencia_uf</th>\n      <th>...</th>\n      <th>ocorrencia_dia</th>\n      <th>ocorrencia_hora</th>\n      <th>investigacao_aeronave_liberada</th>\n      <th>investigacao_status</th>\n      <th>divulgacao_relatorio_numero</th>\n      <th>divulgacao_relatorio_publicado</th>\n      <th>divulgacao_dia_publicacao</th>\n      <th>total_recomendacoes</th>\n      <th>total_aeronaves_envolvidas</th>\n      <th>ocorrencia_saida_pista</th>\n    </tr>\n  </thead>\n  <tbody>\n    <tr>\n      <th>0</th>\n      <td>40211</td>\n      <td>40211</td>\n      <td>40211</td>\n      <td>40211</td>\n      <td>40211</td>\n      <td>INCIDENTE</td>\n      <td>NaN</td>\n      <td>NaN</td>\n      <td>RIO DE JANEIRO</td>\n      <td>RJ</td>\n      <td>...</td>\n      <td>2010-01-03</td>\n      <td>12:00:00</td>\n      <td>SIM</td>\n      <td>FINALIZADA</td>\n      <td>NaN</td>\n      <td>NÃO</td>\n      <td>NaN</td>\n      <td>0</td>\n      <td>1</td>\n      <td>NÃO</td>\n    </tr>\n    <tr>\n      <th>1</th>\n      <td>40349</td>\n      <td>40349</td>\n      <td>40349</td>\n      <td>40349</td>\n      <td>40349</td>\n      <td>INCIDENTE</td>\n      <td>NaN</td>\n      <td>NaN</td>\n      <td>BELÉM</td>\n      <td>PA</td>\n      <td>...</td>\n      <td>2010-01-03</td>\n      <td>11:05:00</td>\n      <td>SIM</td>\n      <td>FINALIZADA</td>\n      <td>NaN</td>\n      <td>NÃO</td>\n      <td>NaN</td>\n      <td>0</td>\n      <td>1</td>\n      <td>NÃO</td>\n    </tr>\n    <tr>\n      <th>2</th>\n      <td>40351</td>\n      <td>40351</td>\n      <td>40351</td>\n      <td>40351</td>\n      <td>40351</td>\n      <td>INCIDENTE</td>\n      <td>NaN</td>\n      <td>NaN</td>\n      <td>RIO DE JANEIRO</td>\n      <td>RJ</td>\n      <td>...</td>\n      <td>2010-01-03</td>\n      <td>03:00:00</td>\n      <td>SIM</td>\n      <td>FINALIZADA</td>\n      <td>NaN</td>\n      <td>NÃO</td>\n      <td>NaN</td>\n      <td>0</td>\n      <td>1</td>\n      <td>NÃO</td>\n    </tr>\n    <tr>\n      <th>3</th>\n      <td>39527</td>\n      <td>39527</td>\n      <td>39527</td>\n      <td>39527</td>\n      <td>39527</td>\n      <td>ACIDENTE</td>\n      <td>-13.1066666667</td>\n      <td>-55.9930555556</td>\n      <td>LUCAS DO RIO VERDE</td>\n      <td>MT</td>\n      <td>...</td>\n      <td>2010-01-04</td>\n      <td>17:30:00</td>\n      <td>SIM</td>\n      <td>FINALIZADA</td>\n      <td>A-539/CENIPA/2018</td>\n      <td>SIM</td>\n      <td>2019-10-28</td>\n      <td>0</td>\n      <td>1</td>\n      <td>NÃO</td>\n    </tr>\n    <tr>\n      <th>4</th>\n      <td>40324</td>\n      <td>40324</td>\n      <td>40324</td>\n      <td>40324</td>\n      <td>40324</td>\n      <td>INCIDENTE</td>\n      <td>NaN</td>\n      <td>NaN</td>\n      <td>PELOTAS</td>\n      <td>RS</td>\n      <td>...</td>\n      <td>2010-01-05</td>\n      <td>19:25:00</td>\n      <td>SIM</td>\n      <td>FINALIZADA</td>\n      <td>NaN</td>\n      <td>NÃO</td>\n      <td>NaN</td>\n      <td>0</td>\n      <td>1</td>\n      <td>NÃO</td>\n    </tr>\n  </tbody>\n</table>\n<p>5 rows × 22 columns</p>\n</div>"
     },
     "metadata": {},
     "execution_count": 69
    }
   ],
   "source": [
    "invalid_data = (\"###!\", \"####\", \"***\", \"****\", \"*****\", \"NULL\")\n",
    "df = pd.read_csv(\"ocorrencia_2010_2020.csv\", delimiter=\";\", parse_dates=[\"ocorrencia_dia\"], dayfirst=True, na_values=invalid_data)\n",
    "df.head()"
   ]
  },
  {
   "source": [
    "### Removendo colunas que não serão utilizadas\n",
    "Parte da limpeza de dados"
   ],
   "cell_type": "markdown",
   "metadata": {}
  },
  {
   "cell_type": "code",
   "execution_count": 70,
   "metadata": {},
   "outputs": [
    {
     "output_type": "execute_result",
     "data": {
      "text/plain": [
       "   codigo_ocorrencia  codigo_ocorrencia2 ocorrencia_classificacao  \\\n",
       "0              40211               40211                INCIDENTE   \n",
       "1              40349               40349                INCIDENTE   \n",
       "2              40351               40351                INCIDENTE   \n",
       "3              39527               39527                 ACIDENTE   \n",
       "4              40324               40324                INCIDENTE   \n",
       "\n",
       "    ocorrencia_cidade ocorrencia_uf ocorrencia_aerodromo ocorrencia_dia  \\\n",
       "0      RIO DE JANEIRO            RJ                  NaN     2010-01-03   \n",
       "1               BELÉM            PA                 SBBE     2010-01-03   \n",
       "2      RIO DE JANEIRO            RJ                 SBRJ     2010-01-03   \n",
       "3  LUCAS DO RIO VERDE            MT                  NaN     2010-01-04   \n",
       "4             PELOTAS            RS                 SBPK     2010-01-05   \n",
       "\n",
       "  ocorrencia_hora  total_recomendacoes  \n",
       "0        12:00:00                    0  \n",
       "1        11:05:00                    0  \n",
       "2        03:00:00                    0  \n",
       "3        17:30:00                    0  \n",
       "4        19:25:00                    0  "
      ],
      "text/html": "<div>\n<style scoped>\n    .dataframe tbody tr th:only-of-type {\n        vertical-align: middle;\n    }\n\n    .dataframe tbody tr th {\n        vertical-align: top;\n    }\n\n    .dataframe thead th {\n        text-align: right;\n    }\n</style>\n<table border=\"1\" class=\"dataframe\">\n  <thead>\n    <tr style=\"text-align: right;\">\n      <th></th>\n      <th>codigo_ocorrencia</th>\n      <th>codigo_ocorrencia2</th>\n      <th>ocorrencia_classificacao</th>\n      <th>ocorrencia_cidade</th>\n      <th>ocorrencia_uf</th>\n      <th>ocorrencia_aerodromo</th>\n      <th>ocorrencia_dia</th>\n      <th>ocorrencia_hora</th>\n      <th>total_recomendacoes</th>\n    </tr>\n  </thead>\n  <tbody>\n    <tr>\n      <th>0</th>\n      <td>40211</td>\n      <td>40211</td>\n      <td>INCIDENTE</td>\n      <td>RIO DE JANEIRO</td>\n      <td>RJ</td>\n      <td>NaN</td>\n      <td>2010-01-03</td>\n      <td>12:00:00</td>\n      <td>0</td>\n    </tr>\n    <tr>\n      <th>1</th>\n      <td>40349</td>\n      <td>40349</td>\n      <td>INCIDENTE</td>\n      <td>BELÉM</td>\n      <td>PA</td>\n      <td>SBBE</td>\n      <td>2010-01-03</td>\n      <td>11:05:00</td>\n      <td>0</td>\n    </tr>\n    <tr>\n      <th>2</th>\n      <td>40351</td>\n      <td>40351</td>\n      <td>INCIDENTE</td>\n      <td>RIO DE JANEIRO</td>\n      <td>RJ</td>\n      <td>SBRJ</td>\n      <td>2010-01-03</td>\n      <td>03:00:00</td>\n      <td>0</td>\n    </tr>\n    <tr>\n      <th>3</th>\n      <td>39527</td>\n      <td>39527</td>\n      <td>ACIDENTE</td>\n      <td>LUCAS DO RIO VERDE</td>\n      <td>MT</td>\n      <td>NaN</td>\n      <td>2010-01-04</td>\n      <td>17:30:00</td>\n      <td>0</td>\n    </tr>\n    <tr>\n      <th>4</th>\n      <td>40324</td>\n      <td>40324</td>\n      <td>INCIDENTE</td>\n      <td>PELOTAS</td>\n      <td>RS</td>\n      <td>SBPK</td>\n      <td>2010-01-05</td>\n      <td>19:25:00</td>\n      <td>0</td>\n    </tr>\n  </tbody>\n</table>\n</div>"
     },
     "metadata": {},
     "execution_count": 70
    }
   ],
   "source": [
    "df.drop([\"codigo_ocorrencia1\", \"codigo_ocorrencia3\", \"codigo_ocorrencia4\", \"ocorrencia_latitude\", \"ocorrencia_longitude\", \"ocorrencia_pais\", \"investigacao_aeronave_liberada\", \"investigacao_status\", \"divulgacao_relatorio_numero\", \"divulgacao_relatorio_publicado\", \"divulgacao_dia_publicacao\", \"total_aeronaves_envolvidas\", \"ocorrencia_saida_pista\"], inplace=True, axis=1)\n",
    "df.head()"
   ]
  },
  {
   "source": [
    "---\n",
    "# Validação"
   ],
   "cell_type": "markdown",
   "metadata": {}
  },
  {
   "cell_type": "code",
   "execution_count": 71,
   "metadata": {},
   "outputs": [
    {
     "output_type": "execute_result",
     "data": {
      "text/plain": [
       "codigo_ocorrencia                    int64\n",
       "codigo_ocorrencia2                   int64\n",
       "ocorrencia_classificacao            object\n",
       "ocorrencia_cidade                   object\n",
       "ocorrencia_uf                       object\n",
       "ocorrencia_aerodromo                object\n",
       "ocorrencia_dia              datetime64[ns]\n",
       "ocorrencia_hora                     object\n",
       "total_recomendacoes                  int64\n",
       "dtype: object"
      ]
     },
     "metadata": {},
     "execution_count": 71
    }
   ],
   "source": [
    "df.dtypes\n",
    "# df.ocorrencia_dia.dt.month"
   ]
  },
  {
   "source": [
    "### Criando schema de validação"
   ],
   "cell_type": "markdown",
   "metadata": {}
  },
  {
   "cell_type": "code",
   "execution_count": 76,
   "metadata": {},
   "outputs": [],
   "source": [
    "schema = pa.DataFrameSchema(\n",
    "    columns = {\n",
    "        \"codigo_ocorrencia\": pa.Column(pa.Int),\n",
    "        \"codigo_ocorrencia2\": pa.Column(pa.Int),\n",
    "        \"ocorrencia_classificacao\": pa.Column(pa.String),\n",
    "        \"ocorrencia_cidade\": pa.Column(pa.String),\n",
    "        \"ocorrencia_uf\": pa.Column(pa.String, pa.Check.str_length(2, 2), nullable=True),\n",
    "        \"ocorrencia_aerodromo\": pa.Column(pa.String, nullable=True),\n",
    "        \"ocorrencia_dia\": pa.Column(pa.DateTime),\n",
    "        \"ocorrencia_hora\": pa.Column(pa.String, pa.Check.str_matches(\n",
    "            r\"^([0-1]?[0-9]|[2][0-3]):([0-5][0-9]):([0-5][0-9])?$\"), nullable=True),\n",
    "        \"total_recomendacoes\": pa.Column(pa.Int),\n",
    "    }\n",
    ")"
   ]
  },
  {
   "source": [
    "### Validando DataFrame"
   ],
   "cell_type": "markdown",
   "metadata": {}
  },
  {
   "cell_type": "code",
   "execution_count": 77,
   "metadata": {},
   "outputs": [
    {
     "output_type": "execute_result",
     "data": {
      "text/plain": [
       "      codigo_ocorrencia  codigo_ocorrencia2 ocorrencia_classificacao  \\\n",
       "0                 40211               40211                INCIDENTE   \n",
       "1                 40349               40349                INCIDENTE   \n",
       "2                 40351               40351                INCIDENTE   \n",
       "3                 39527               39527                 ACIDENTE   \n",
       "4                 40324               40324                INCIDENTE   \n",
       "...                 ...                 ...                      ...   \n",
       "5747              79804               79804                INCIDENTE   \n",
       "5748              79757               79757          INCIDENTE GRAVE   \n",
       "5749              79802               79802                INCIDENTE   \n",
       "5750              79756               79756          INCIDENTE GRAVE   \n",
       "5751              79844               79844                INCIDENTE   \n",
       "\n",
       "       ocorrencia_cidade ocorrencia_uf ocorrencia_aerodromo ocorrencia_dia  \\\n",
       "0         RIO DE JANEIRO            RJ                  NaN     2010-01-03   \n",
       "1                  BELÉM            PA                 SBBE     2010-01-03   \n",
       "2         RIO DE JANEIRO            RJ                 SBRJ     2010-01-03   \n",
       "3     LUCAS DO RIO VERDE            MT                  NaN     2010-01-04   \n",
       "4                PELOTAS            RS                 SBPK     2010-01-05   \n",
       "...                  ...           ...                  ...            ...   \n",
       "5747            CAMPINAS            SP                 SBKP     2020-12-29   \n",
       "5748   LAGOA DA CONFUSÃO            TO                  NaN     2020-12-30   \n",
       "5749      RIO DE JANEIRO            RJ                 SBGL     2020-12-30   \n",
       "5750           VICENTINA            MS                  NaN     2020-12-31   \n",
       "5751      RIO DE JANEIRO            RJ                 SBJR     2020-12-31   \n",
       "\n",
       "     ocorrencia_hora  total_recomendacoes  \n",
       "0           12:00:00                    0  \n",
       "1           11:05:00                    0  \n",
       "2           03:00:00                    0  \n",
       "3           17:30:00                    0  \n",
       "4           19:25:00                    0  \n",
       "...              ...                  ...  \n",
       "5747        19:00:00                    0  \n",
       "5748        18:30:00                    0  \n",
       "5749        00:54:00                    0  \n",
       "5750        09:00:00                    0  \n",
       "5751        13:24:00                    0  \n",
       "\n",
       "[5752 rows x 9 columns]"
      ],
      "text/html": "<div>\n<style scoped>\n    .dataframe tbody tr th:only-of-type {\n        vertical-align: middle;\n    }\n\n    .dataframe tbody tr th {\n        vertical-align: top;\n    }\n\n    .dataframe thead th {\n        text-align: right;\n    }\n</style>\n<table border=\"1\" class=\"dataframe\">\n  <thead>\n    <tr style=\"text-align: right;\">\n      <th></th>\n      <th>codigo_ocorrencia</th>\n      <th>codigo_ocorrencia2</th>\n      <th>ocorrencia_classificacao</th>\n      <th>ocorrencia_cidade</th>\n      <th>ocorrencia_uf</th>\n      <th>ocorrencia_aerodromo</th>\n      <th>ocorrencia_dia</th>\n      <th>ocorrencia_hora</th>\n      <th>total_recomendacoes</th>\n    </tr>\n  </thead>\n  <tbody>\n    <tr>\n      <th>0</th>\n      <td>40211</td>\n      <td>40211</td>\n      <td>INCIDENTE</td>\n      <td>RIO DE JANEIRO</td>\n      <td>RJ</td>\n      <td>NaN</td>\n      <td>2010-01-03</td>\n      <td>12:00:00</td>\n      <td>0</td>\n    </tr>\n    <tr>\n      <th>1</th>\n      <td>40349</td>\n      <td>40349</td>\n      <td>INCIDENTE</td>\n      <td>BELÉM</td>\n      <td>PA</td>\n      <td>SBBE</td>\n      <td>2010-01-03</td>\n      <td>11:05:00</td>\n      <td>0</td>\n    </tr>\n    <tr>\n      <th>2</th>\n      <td>40351</td>\n      <td>40351</td>\n      <td>INCIDENTE</td>\n      <td>RIO DE JANEIRO</td>\n      <td>RJ</td>\n      <td>SBRJ</td>\n      <td>2010-01-03</td>\n      <td>03:00:00</td>\n      <td>0</td>\n    </tr>\n    <tr>\n      <th>3</th>\n      <td>39527</td>\n      <td>39527</td>\n      <td>ACIDENTE</td>\n      <td>LUCAS DO RIO VERDE</td>\n      <td>MT</td>\n      <td>NaN</td>\n      <td>2010-01-04</td>\n      <td>17:30:00</td>\n      <td>0</td>\n    </tr>\n    <tr>\n      <th>4</th>\n      <td>40324</td>\n      <td>40324</td>\n      <td>INCIDENTE</td>\n      <td>PELOTAS</td>\n      <td>RS</td>\n      <td>SBPK</td>\n      <td>2010-01-05</td>\n      <td>19:25:00</td>\n      <td>0</td>\n    </tr>\n    <tr>\n      <th>...</th>\n      <td>...</td>\n      <td>...</td>\n      <td>...</td>\n      <td>...</td>\n      <td>...</td>\n      <td>...</td>\n      <td>...</td>\n      <td>...</td>\n      <td>...</td>\n    </tr>\n    <tr>\n      <th>5747</th>\n      <td>79804</td>\n      <td>79804</td>\n      <td>INCIDENTE</td>\n      <td>CAMPINAS</td>\n      <td>SP</td>\n      <td>SBKP</td>\n      <td>2020-12-29</td>\n      <td>19:00:00</td>\n      <td>0</td>\n    </tr>\n    <tr>\n      <th>5748</th>\n      <td>79757</td>\n      <td>79757</td>\n      <td>INCIDENTE GRAVE</td>\n      <td>LAGOA DA CONFUSÃO</td>\n      <td>TO</td>\n      <td>NaN</td>\n      <td>2020-12-30</td>\n      <td>18:30:00</td>\n      <td>0</td>\n    </tr>\n    <tr>\n      <th>5749</th>\n      <td>79802</td>\n      <td>79802</td>\n      <td>INCIDENTE</td>\n      <td>RIO DE JANEIRO</td>\n      <td>RJ</td>\n      <td>SBGL</td>\n      <td>2020-12-30</td>\n      <td>00:54:00</td>\n      <td>0</td>\n    </tr>\n    <tr>\n      <th>5750</th>\n      <td>79756</td>\n      <td>79756</td>\n      <td>INCIDENTE GRAVE</td>\n      <td>VICENTINA</td>\n      <td>MS</td>\n      <td>NaN</td>\n      <td>2020-12-31</td>\n      <td>09:00:00</td>\n      <td>0</td>\n    </tr>\n    <tr>\n      <th>5751</th>\n      <td>79844</td>\n      <td>79844</td>\n      <td>INCIDENTE</td>\n      <td>RIO DE JANEIRO</td>\n      <td>RJ</td>\n      <td>SBJR</td>\n      <td>2020-12-31</td>\n      <td>13:24:00</td>\n      <td>0</td>\n    </tr>\n  </tbody>\n</table>\n<p>5752 rows × 9 columns</p>\n</div>"
     },
     "metadata": {},
     "execution_count": 77
    }
   ],
   "source": [
    "schema.validate(df)"
   ]
  },
  {
   "source": [
    "---\n",
    "# Limpeza"
   ],
   "cell_type": "markdown",
   "metadata": {}
  },
  {
   "source": [
    "### Substituindo valores inválidos"
   ],
   "cell_type": "markdown",
   "metadata": {}
  },
  {
   "source": [
    "# invalid_data = (\"###!\", \"####\", \"***\", \"****\", \"*****\", \"NULL\")\n",
    "# df.replace(invalid_data, pd.NA, inplace=True)\n",
    "# movido posteriormente para a célula de leitura do csv (aula de transformaçao)"
   ],
   "cell_type": "code",
   "metadata": {},
   "execution_count": null,
   "outputs": []
  },
  {
   "cell_type": "code",
   "execution_count": 78,
   "metadata": {},
   "outputs": [
    {
     "output_type": "execute_result",
     "data": {
      "text/plain": [
       "codigo_ocorrencia              0\n",
       "codigo_ocorrencia2             0\n",
       "ocorrencia_classificacao       0\n",
       "ocorrencia_cidade              0\n",
       "ocorrencia_uf                  1\n",
       "ocorrencia_aerodromo        2349\n",
       "ocorrencia_dia                 0\n",
       "ocorrencia_hora                1\n",
       "total_recomendacoes            0\n",
       "dtype: int64"
      ]
     },
     "metadata": {},
     "execution_count": 78
    }
   ],
   "source": [
    "df.isna().sum()\n",
    "# df.isnull().sum()  # outra opção"
   ]
  },
  {
   "source": [
    "---\n",
    "# Transformação"
   ],
   "cell_type": "markdown",
   "metadata": {}
  },
  {
   "source": [
    "### Criando coluna ocorrencia_data_hora usando as colunas ocorrencia_dia e ocorrencia_hora"
   ],
   "cell_type": "markdown",
   "metadata": {}
  },
  {
   "cell_type": "code",
   "execution_count": 79,
   "metadata": {},
   "outputs": [],
   "source": [
    "df[\"ocorrencia_data_hora\"] = pd.to_datetime(df.ocorrencia_dia.astype(str) + \" \" + df.ocorrencia_hora)"
   ]
  },
  {
   "cell_type": "code",
   "execution_count": 80,
   "metadata": {},
   "outputs": [
    {
     "output_type": "execute_result",
     "data": {
      "text/plain": [
       "   codigo_ocorrencia  codigo_ocorrencia2 ocorrencia_classificacao  \\\n",
       "0              40211               40211                INCIDENTE   \n",
       "1              40349               40349                INCIDENTE   \n",
       "2              40351               40351                INCIDENTE   \n",
       "3              39527               39527                 ACIDENTE   \n",
       "4              40324               40324                INCIDENTE   \n",
       "\n",
       "    ocorrencia_cidade ocorrencia_uf ocorrencia_aerodromo ocorrencia_dia  \\\n",
       "0      RIO DE JANEIRO            RJ                  NaN     2010-01-03   \n",
       "1               BELÉM            PA                 SBBE     2010-01-03   \n",
       "2      RIO DE JANEIRO            RJ                 SBRJ     2010-01-03   \n",
       "3  LUCAS DO RIO VERDE            MT                  NaN     2010-01-04   \n",
       "4             PELOTAS            RS                 SBPK     2010-01-05   \n",
       "\n",
       "  ocorrencia_hora  total_recomendacoes ocorrencia_data_hora  \n",
       "0        12:00:00                    0  2010-01-03 12:00:00  \n",
       "1        11:05:00                    0  2010-01-03 11:05:00  \n",
       "2        03:00:00                    0  2010-01-03 03:00:00  \n",
       "3        17:30:00                    0  2010-01-04 17:30:00  \n",
       "4        19:25:00                    0  2010-01-05 19:25:00  "
      ],
      "text/html": "<div>\n<style scoped>\n    .dataframe tbody tr th:only-of-type {\n        vertical-align: middle;\n    }\n\n    .dataframe tbody tr th {\n        vertical-align: top;\n    }\n\n    .dataframe thead th {\n        text-align: right;\n    }\n</style>\n<table border=\"1\" class=\"dataframe\">\n  <thead>\n    <tr style=\"text-align: right;\">\n      <th></th>\n      <th>codigo_ocorrencia</th>\n      <th>codigo_ocorrencia2</th>\n      <th>ocorrencia_classificacao</th>\n      <th>ocorrencia_cidade</th>\n      <th>ocorrencia_uf</th>\n      <th>ocorrencia_aerodromo</th>\n      <th>ocorrencia_dia</th>\n      <th>ocorrencia_hora</th>\n      <th>total_recomendacoes</th>\n      <th>ocorrencia_data_hora</th>\n    </tr>\n  </thead>\n  <tbody>\n    <tr>\n      <th>0</th>\n      <td>40211</td>\n      <td>40211</td>\n      <td>INCIDENTE</td>\n      <td>RIO DE JANEIRO</td>\n      <td>RJ</td>\n      <td>NaN</td>\n      <td>2010-01-03</td>\n      <td>12:00:00</td>\n      <td>0</td>\n      <td>2010-01-03 12:00:00</td>\n    </tr>\n    <tr>\n      <th>1</th>\n      <td>40349</td>\n      <td>40349</td>\n      <td>INCIDENTE</td>\n      <td>BELÉM</td>\n      <td>PA</td>\n      <td>SBBE</td>\n      <td>2010-01-03</td>\n      <td>11:05:00</td>\n      <td>0</td>\n      <td>2010-01-03 11:05:00</td>\n    </tr>\n    <tr>\n      <th>2</th>\n      <td>40351</td>\n      <td>40351</td>\n      <td>INCIDENTE</td>\n      <td>RIO DE JANEIRO</td>\n      <td>RJ</td>\n      <td>SBRJ</td>\n      <td>2010-01-03</td>\n      <td>03:00:00</td>\n      <td>0</td>\n      <td>2010-01-03 03:00:00</td>\n    </tr>\n    <tr>\n      <th>3</th>\n      <td>39527</td>\n      <td>39527</td>\n      <td>ACIDENTE</td>\n      <td>LUCAS DO RIO VERDE</td>\n      <td>MT</td>\n      <td>NaN</td>\n      <td>2010-01-04</td>\n      <td>17:30:00</td>\n      <td>0</td>\n      <td>2010-01-04 17:30:00</td>\n    </tr>\n    <tr>\n      <th>4</th>\n      <td>40324</td>\n      <td>40324</td>\n      <td>INCIDENTE</td>\n      <td>PELOTAS</td>\n      <td>RS</td>\n      <td>SBPK</td>\n      <td>2010-01-05</td>\n      <td>19:25:00</td>\n      <td>0</td>\n      <td>2010-01-05 19:25:00</td>\n    </tr>\n  </tbody>\n</table>\n</div>"
     },
     "metadata": {},
     "execution_count": 80
    }
   ],
   "source": [
    "df.head()"
   ]
  },
  {
   "source": [
    "### Criando novo dataframe contendo apenas dados de março de 2015"
   ],
   "cell_type": "markdown",
   "metadata": {}
  },
  {
   "cell_type": "code",
   "execution_count": 82,
   "metadata": {},
   "outputs": [
    {
     "output_type": "execute_result",
     "data": {
      "text/plain": [
       "      codigo_ocorrencia  codigo_ocorrencia2 ocorrencia_classificacao  \\\n",
       "3086              53183               53183                 ACIDENTE   \n",
       "3087              53120               53120                 ACIDENTE   \n",
       "3088              53109               53109                 ACIDENTE   \n",
       "3089              53112               53112                 ACIDENTE   \n",
       "3090              53152               53152          INCIDENTE GRAVE   \n",
       "3091              53167               53167                INCIDENTE   \n",
       "3092              53596               53596                INCIDENTE   \n",
       "3093              53149               53149                 ACIDENTE   \n",
       "3094              53148               53148                 ACIDENTE   \n",
       "3095              53153               53153                INCIDENTE   \n",
       "3096              53154               53154                INCIDENTE   \n",
       "3097              53238               53238                INCIDENTE   \n",
       "3098              53189               53189                INCIDENTE   \n",
       "3099              53193               53193                 ACIDENTE   \n",
       "3100              53164               53164                 ACIDENTE   \n",
       "3101              53151               53151          INCIDENTE GRAVE   \n",
       "3102              53168               53168                INCIDENTE   \n",
       "3103              53169               53169                INCIDENTE   \n",
       "3104              53165               53165          INCIDENTE GRAVE   \n",
       "3105              53188               53188                INCIDENTE   \n",
       "3106              53184               53184                 ACIDENTE   \n",
       "3107              53178               53178                 ACIDENTE   \n",
       "3108              53182               53182                 ACIDENTE   \n",
       "3109              53166               53166          INCIDENTE GRAVE   \n",
       "3110              53170               53170                INCIDENTE   \n",
       "3111              53185               53185                INCIDENTE   \n",
       "3112              53412               53412          INCIDENTE GRAVE   \n",
       "3113              53194               53194                 ACIDENTE   \n",
       "3114              53186               53186                INCIDENTE   \n",
       "3115              53179               53179                 ACIDENTE   \n",
       "3116              53180               53180                 ACIDENTE   \n",
       "3117              53190               53190                INCIDENTE   \n",
       "3118              53212               53212                INCIDENTE   \n",
       "3119              53213               53213                INCIDENTE   \n",
       "3120              53181               53181                 ACIDENTE   \n",
       "3121              53187               53187                INCIDENTE   \n",
       "3122              53211               53211                INCIDENTE   \n",
       "\n",
       "        ocorrencia_cidade ocorrencia_uf ocorrencia_aerodromo ocorrencia_dia  \\\n",
       "3086              AMAPORÃ            PR                  NaN     2015-03-02   \n",
       "3087               CHAVES            PA                 SNXW     2015-03-04   \n",
       "3088         CAMPO GRANDE            MS                 SSIE     2015-03-05   \n",
       "3089           MOGI GUAÇU            SP                  NaN     2015-03-06   \n",
       "3090       RIO DE JANEIRO            RJ                 SBRJ     2015-03-10   \n",
       "3091               MARABÁ            PA                 SBMA     2015-03-10   \n",
       "3092              ITAPEMA            SC                  NaN     2015-03-10   \n",
       "3093            TABATINGA            AM                 SBTT     2015-03-11   \n",
       "3094               ARARAS            SP                 SDEH     2015-03-12   \n",
       "3095         PORTO ALEGRE            RS                 SBPA     2015-03-13   \n",
       "3096             SOROCABA            SP                 SDCO     2015-03-13   \n",
       "3097                SERRA            ES                  NaN     2015-03-13   \n",
       "3098              CONFINS            MG                 SBCF     2015-03-14   \n",
       "3099             CANARANA            MT                  NaN     2015-03-14   \n",
       "3100      PRINCESA ISABEL            PB                  NaN     2015-03-15   \n",
       "3101                MAUÉS            AM                 SWMW     2015-03-16   \n",
       "3102        PARÁ DE MINAS            MG                 SNPA     2015-03-16   \n",
       "3103                BELÉM            PA                 SBBE     2015-03-19   \n",
       "3104        SÃO DESIDÉRIO            BA                  NaN     2015-03-20   \n",
       "3105       RIO DE JANEIRO            RJ                 SBJR     2015-03-20   \n",
       "3106          PORTO UNIÃO            SC                  NaN     2015-03-22   \n",
       "3107           DIAMANTINO            MT                  NaN     2015-03-23   \n",
       "3108          SANTA LUZIA            MA                  NaN     2015-03-23   \n",
       "3109    RIACHÃO DAS NEVES            BA                  NaN     2015-03-24   \n",
       "3110              CONFINS            MG                 SBCF     2015-03-24   \n",
       "3111             CURITIBA            PR                 SBCT     2015-03-24   \n",
       "3112                MACAÉ            RJ                  NaN     2015-03-24   \n",
       "3113  GUARACIABA DO NORTE            CE                 SWBE     2015-03-26   \n",
       "3114             BRASÍLIA            DF                  NaN     2015-03-27   \n",
       "3115            CAIAPÔNIA            GO                  NaN     2015-03-28   \n",
       "3116             ARAGUARI            MG                  NaN     2015-03-28   \n",
       "3117             CAMPINAS            SP                 SBKP     2015-03-28   \n",
       "3118              JUNDIAÍ            SP                 SBJD     2015-03-28   \n",
       "3119              JUNDIAÍ            SP                 SBJD     2015-03-28   \n",
       "3120              COLÍDER            MT                  NaN     2015-03-29   \n",
       "3121            JOINVILLE            SC                 SBJV     2015-03-29   \n",
       "3122                BAURU            SP                 SBBU     2015-03-30   \n",
       "\n",
       "     ocorrencia_hora  total_recomendacoes ocorrencia_data_hora  \n",
       "3086        23:00:00                    0  2015-03-02 23:00:00  \n",
       "3087        13:30:00                    0  2015-03-04 13:30:00  \n",
       "3088        13:50:00                    0  2015-03-05 13:50:00  \n",
       "3089        21:00:00                    0  2015-03-06 21:00:00  \n",
       "3090        11:30:00                    2  2015-03-10 11:30:00  \n",
       "3091        17:33:00                    0  2015-03-10 17:33:00  \n",
       "3092        21:35:00                    0  2015-03-10 21:35:00  \n",
       "3093        23:25:00                    0  2015-03-11 23:25:00  \n",
       "3094        12:40:00                    0  2015-03-12 12:40:00  \n",
       "3095        15:45:00                    0  2015-03-13 15:45:00  \n",
       "3096        14:40:00                    0  2015-03-13 14:40:00  \n",
       "3097        11:30:00                    0  2015-03-13 11:30:00  \n",
       "3098        07:20:00                    0  2015-03-14 07:20:00  \n",
       "3099        18:00:00                    0  2015-03-14 18:00:00  \n",
       "3100        18:30:00                    0  2015-03-15 18:30:00  \n",
       "3101        18:07:00                    1  2015-03-16 18:07:00  \n",
       "3102        21:05:00                    0  2015-03-16 21:05:00  \n",
       "3103        03:25:00                    0  2015-03-19 03:25:00  \n",
       "3104        14:35:00                    0  2015-03-20 14:35:00  \n",
       "3105        21:00:00                    0  2015-03-20 21:00:00  \n",
       "3106        13:44:00                    0  2015-03-22 13:44:00  \n",
       "3107        17:15:00                    0  2015-03-23 17:15:00  \n",
       "3108        20:40:00                    0  2015-03-23 20:40:00  \n",
       "3109        14:45:00                    0  2015-03-24 14:45:00  \n",
       "3110        17:57:00                    0  2015-03-24 17:57:00  \n",
       "3111        23:01:00                    0  2015-03-24 23:01:00  \n",
       "3112        16:35:00                    0  2015-03-24 16:35:00  \n",
       "3113        20:30:00                    0  2015-03-26 20:30:00  \n",
       "3114        14:55:00                    0  2015-03-27 14:55:00  \n",
       "3115        10:30:00                    0  2015-03-28 10:30:00  \n",
       "3116        18:52:00                    0  2015-03-28 18:52:00  \n",
       "3117        16:26:00                    0  2015-03-28 16:26:00  \n",
       "3118        17:32:00                    0  2015-03-28 17:32:00  \n",
       "3119        15:51:00                    0  2015-03-28 15:51:00  \n",
       "3120        20:17:00                    0  2015-03-29 20:17:00  \n",
       "3121        18:36:00                    0  2015-03-29 18:36:00  \n",
       "3122        19:40:00                    0  2015-03-30 19:40:00  "
      ],
      "text/html": "<div>\n<style scoped>\n    .dataframe tbody tr th:only-of-type {\n        vertical-align: middle;\n    }\n\n    .dataframe tbody tr th {\n        vertical-align: top;\n    }\n\n    .dataframe thead th {\n        text-align: right;\n    }\n</style>\n<table border=\"1\" class=\"dataframe\">\n  <thead>\n    <tr style=\"text-align: right;\">\n      <th></th>\n      <th>codigo_ocorrencia</th>\n      <th>codigo_ocorrencia2</th>\n      <th>ocorrencia_classificacao</th>\n      <th>ocorrencia_cidade</th>\n      <th>ocorrencia_uf</th>\n      <th>ocorrencia_aerodromo</th>\n      <th>ocorrencia_dia</th>\n      <th>ocorrencia_hora</th>\n      <th>total_recomendacoes</th>\n      <th>ocorrencia_data_hora</th>\n    </tr>\n  </thead>\n  <tbody>\n    <tr>\n      <th>3086</th>\n      <td>53183</td>\n      <td>53183</td>\n      <td>ACIDENTE</td>\n      <td>AMAPORÃ</td>\n      <td>PR</td>\n      <td>NaN</td>\n      <td>2015-03-02</td>\n      <td>23:00:00</td>\n      <td>0</td>\n      <td>2015-03-02 23:00:00</td>\n    </tr>\n    <tr>\n      <th>3087</th>\n      <td>53120</td>\n      <td>53120</td>\n      <td>ACIDENTE</td>\n      <td>CHAVES</td>\n      <td>PA</td>\n      <td>SNXW</td>\n      <td>2015-03-04</td>\n      <td>13:30:00</td>\n      <td>0</td>\n      <td>2015-03-04 13:30:00</td>\n    </tr>\n    <tr>\n      <th>3088</th>\n      <td>53109</td>\n      <td>53109</td>\n      <td>ACIDENTE</td>\n      <td>CAMPO GRANDE</td>\n      <td>MS</td>\n      <td>SSIE</td>\n      <td>2015-03-05</td>\n      <td>13:50:00</td>\n      <td>0</td>\n      <td>2015-03-05 13:50:00</td>\n    </tr>\n    <tr>\n      <th>3089</th>\n      <td>53112</td>\n      <td>53112</td>\n      <td>ACIDENTE</td>\n      <td>MOGI GUAÇU</td>\n      <td>SP</td>\n      <td>NaN</td>\n      <td>2015-03-06</td>\n      <td>21:00:00</td>\n      <td>0</td>\n      <td>2015-03-06 21:00:00</td>\n    </tr>\n    <tr>\n      <th>3090</th>\n      <td>53152</td>\n      <td>53152</td>\n      <td>INCIDENTE GRAVE</td>\n      <td>RIO DE JANEIRO</td>\n      <td>RJ</td>\n      <td>SBRJ</td>\n      <td>2015-03-10</td>\n      <td>11:30:00</td>\n      <td>2</td>\n      <td>2015-03-10 11:30:00</td>\n    </tr>\n    <tr>\n      <th>3091</th>\n      <td>53167</td>\n      <td>53167</td>\n      <td>INCIDENTE</td>\n      <td>MARABÁ</td>\n      <td>PA</td>\n      <td>SBMA</td>\n      <td>2015-03-10</td>\n      <td>17:33:00</td>\n      <td>0</td>\n      <td>2015-03-10 17:33:00</td>\n    </tr>\n    <tr>\n      <th>3092</th>\n      <td>53596</td>\n      <td>53596</td>\n      <td>INCIDENTE</td>\n      <td>ITAPEMA</td>\n      <td>SC</td>\n      <td>NaN</td>\n      <td>2015-03-10</td>\n      <td>21:35:00</td>\n      <td>0</td>\n      <td>2015-03-10 21:35:00</td>\n    </tr>\n    <tr>\n      <th>3093</th>\n      <td>53149</td>\n      <td>53149</td>\n      <td>ACIDENTE</td>\n      <td>TABATINGA</td>\n      <td>AM</td>\n      <td>SBTT</td>\n      <td>2015-03-11</td>\n      <td>23:25:00</td>\n      <td>0</td>\n      <td>2015-03-11 23:25:00</td>\n    </tr>\n    <tr>\n      <th>3094</th>\n      <td>53148</td>\n      <td>53148</td>\n      <td>ACIDENTE</td>\n      <td>ARARAS</td>\n      <td>SP</td>\n      <td>SDEH</td>\n      <td>2015-03-12</td>\n      <td>12:40:00</td>\n      <td>0</td>\n      <td>2015-03-12 12:40:00</td>\n    </tr>\n    <tr>\n      <th>3095</th>\n      <td>53153</td>\n      <td>53153</td>\n      <td>INCIDENTE</td>\n      <td>PORTO ALEGRE</td>\n      <td>RS</td>\n      <td>SBPA</td>\n      <td>2015-03-13</td>\n      <td>15:45:00</td>\n      <td>0</td>\n      <td>2015-03-13 15:45:00</td>\n    </tr>\n    <tr>\n      <th>3096</th>\n      <td>53154</td>\n      <td>53154</td>\n      <td>INCIDENTE</td>\n      <td>SOROCABA</td>\n      <td>SP</td>\n      <td>SDCO</td>\n      <td>2015-03-13</td>\n      <td>14:40:00</td>\n      <td>0</td>\n      <td>2015-03-13 14:40:00</td>\n    </tr>\n    <tr>\n      <th>3097</th>\n      <td>53238</td>\n      <td>53238</td>\n      <td>INCIDENTE</td>\n      <td>SERRA</td>\n      <td>ES</td>\n      <td>NaN</td>\n      <td>2015-03-13</td>\n      <td>11:30:00</td>\n      <td>0</td>\n      <td>2015-03-13 11:30:00</td>\n    </tr>\n    <tr>\n      <th>3098</th>\n      <td>53189</td>\n      <td>53189</td>\n      <td>INCIDENTE</td>\n      <td>CONFINS</td>\n      <td>MG</td>\n      <td>SBCF</td>\n      <td>2015-03-14</td>\n      <td>07:20:00</td>\n      <td>0</td>\n      <td>2015-03-14 07:20:00</td>\n    </tr>\n    <tr>\n      <th>3099</th>\n      <td>53193</td>\n      <td>53193</td>\n      <td>ACIDENTE</td>\n      <td>CANARANA</td>\n      <td>MT</td>\n      <td>NaN</td>\n      <td>2015-03-14</td>\n      <td>18:00:00</td>\n      <td>0</td>\n      <td>2015-03-14 18:00:00</td>\n    </tr>\n    <tr>\n      <th>3100</th>\n      <td>53164</td>\n      <td>53164</td>\n      <td>ACIDENTE</td>\n      <td>PRINCESA ISABEL</td>\n      <td>PB</td>\n      <td>NaN</td>\n      <td>2015-03-15</td>\n      <td>18:30:00</td>\n      <td>0</td>\n      <td>2015-03-15 18:30:00</td>\n    </tr>\n    <tr>\n      <th>3101</th>\n      <td>53151</td>\n      <td>53151</td>\n      <td>INCIDENTE GRAVE</td>\n      <td>MAUÉS</td>\n      <td>AM</td>\n      <td>SWMW</td>\n      <td>2015-03-16</td>\n      <td>18:07:00</td>\n      <td>1</td>\n      <td>2015-03-16 18:07:00</td>\n    </tr>\n    <tr>\n      <th>3102</th>\n      <td>53168</td>\n      <td>53168</td>\n      <td>INCIDENTE</td>\n      <td>PARÁ DE MINAS</td>\n      <td>MG</td>\n      <td>SNPA</td>\n      <td>2015-03-16</td>\n      <td>21:05:00</td>\n      <td>0</td>\n      <td>2015-03-16 21:05:00</td>\n    </tr>\n    <tr>\n      <th>3103</th>\n      <td>53169</td>\n      <td>53169</td>\n      <td>INCIDENTE</td>\n      <td>BELÉM</td>\n      <td>PA</td>\n      <td>SBBE</td>\n      <td>2015-03-19</td>\n      <td>03:25:00</td>\n      <td>0</td>\n      <td>2015-03-19 03:25:00</td>\n    </tr>\n    <tr>\n      <th>3104</th>\n      <td>53165</td>\n      <td>53165</td>\n      <td>INCIDENTE GRAVE</td>\n      <td>SÃO DESIDÉRIO</td>\n      <td>BA</td>\n      <td>NaN</td>\n      <td>2015-03-20</td>\n      <td>14:35:00</td>\n      <td>0</td>\n      <td>2015-03-20 14:35:00</td>\n    </tr>\n    <tr>\n      <th>3105</th>\n      <td>53188</td>\n      <td>53188</td>\n      <td>INCIDENTE</td>\n      <td>RIO DE JANEIRO</td>\n      <td>RJ</td>\n      <td>SBJR</td>\n      <td>2015-03-20</td>\n      <td>21:00:00</td>\n      <td>0</td>\n      <td>2015-03-20 21:00:00</td>\n    </tr>\n    <tr>\n      <th>3106</th>\n      <td>53184</td>\n      <td>53184</td>\n      <td>ACIDENTE</td>\n      <td>PORTO UNIÃO</td>\n      <td>SC</td>\n      <td>NaN</td>\n      <td>2015-03-22</td>\n      <td>13:44:00</td>\n      <td>0</td>\n      <td>2015-03-22 13:44:00</td>\n    </tr>\n    <tr>\n      <th>3107</th>\n      <td>53178</td>\n      <td>53178</td>\n      <td>ACIDENTE</td>\n      <td>DIAMANTINO</td>\n      <td>MT</td>\n      <td>NaN</td>\n      <td>2015-03-23</td>\n      <td>17:15:00</td>\n      <td>0</td>\n      <td>2015-03-23 17:15:00</td>\n    </tr>\n    <tr>\n      <th>3108</th>\n      <td>53182</td>\n      <td>53182</td>\n      <td>ACIDENTE</td>\n      <td>SANTA LUZIA</td>\n      <td>MA</td>\n      <td>NaN</td>\n      <td>2015-03-23</td>\n      <td>20:40:00</td>\n      <td>0</td>\n      <td>2015-03-23 20:40:00</td>\n    </tr>\n    <tr>\n      <th>3109</th>\n      <td>53166</td>\n      <td>53166</td>\n      <td>INCIDENTE GRAVE</td>\n      <td>RIACHÃO DAS NEVES</td>\n      <td>BA</td>\n      <td>NaN</td>\n      <td>2015-03-24</td>\n      <td>14:45:00</td>\n      <td>0</td>\n      <td>2015-03-24 14:45:00</td>\n    </tr>\n    <tr>\n      <th>3110</th>\n      <td>53170</td>\n      <td>53170</td>\n      <td>INCIDENTE</td>\n      <td>CONFINS</td>\n      <td>MG</td>\n      <td>SBCF</td>\n      <td>2015-03-24</td>\n      <td>17:57:00</td>\n      <td>0</td>\n      <td>2015-03-24 17:57:00</td>\n    </tr>\n    <tr>\n      <th>3111</th>\n      <td>53185</td>\n      <td>53185</td>\n      <td>INCIDENTE</td>\n      <td>CURITIBA</td>\n      <td>PR</td>\n      <td>SBCT</td>\n      <td>2015-03-24</td>\n      <td>23:01:00</td>\n      <td>0</td>\n      <td>2015-03-24 23:01:00</td>\n    </tr>\n    <tr>\n      <th>3112</th>\n      <td>53412</td>\n      <td>53412</td>\n      <td>INCIDENTE GRAVE</td>\n      <td>MACAÉ</td>\n      <td>RJ</td>\n      <td>NaN</td>\n      <td>2015-03-24</td>\n      <td>16:35:00</td>\n      <td>0</td>\n      <td>2015-03-24 16:35:00</td>\n    </tr>\n    <tr>\n      <th>3113</th>\n      <td>53194</td>\n      <td>53194</td>\n      <td>ACIDENTE</td>\n      <td>GUARACIABA DO NORTE</td>\n      <td>CE</td>\n      <td>SWBE</td>\n      <td>2015-03-26</td>\n      <td>20:30:00</td>\n      <td>0</td>\n      <td>2015-03-26 20:30:00</td>\n    </tr>\n    <tr>\n      <th>3114</th>\n      <td>53186</td>\n      <td>53186</td>\n      <td>INCIDENTE</td>\n      <td>BRASÍLIA</td>\n      <td>DF</td>\n      <td>NaN</td>\n      <td>2015-03-27</td>\n      <td>14:55:00</td>\n      <td>0</td>\n      <td>2015-03-27 14:55:00</td>\n    </tr>\n    <tr>\n      <th>3115</th>\n      <td>53179</td>\n      <td>53179</td>\n      <td>ACIDENTE</td>\n      <td>CAIAPÔNIA</td>\n      <td>GO</td>\n      <td>NaN</td>\n      <td>2015-03-28</td>\n      <td>10:30:00</td>\n      <td>0</td>\n      <td>2015-03-28 10:30:00</td>\n    </tr>\n    <tr>\n      <th>3116</th>\n      <td>53180</td>\n      <td>53180</td>\n      <td>ACIDENTE</td>\n      <td>ARAGUARI</td>\n      <td>MG</td>\n      <td>NaN</td>\n      <td>2015-03-28</td>\n      <td>18:52:00</td>\n      <td>0</td>\n      <td>2015-03-28 18:52:00</td>\n    </tr>\n    <tr>\n      <th>3117</th>\n      <td>53190</td>\n      <td>53190</td>\n      <td>INCIDENTE</td>\n      <td>CAMPINAS</td>\n      <td>SP</td>\n      <td>SBKP</td>\n      <td>2015-03-28</td>\n      <td>16:26:00</td>\n      <td>0</td>\n      <td>2015-03-28 16:26:00</td>\n    </tr>\n    <tr>\n      <th>3118</th>\n      <td>53212</td>\n      <td>53212</td>\n      <td>INCIDENTE</td>\n      <td>JUNDIAÍ</td>\n      <td>SP</td>\n      <td>SBJD</td>\n      <td>2015-03-28</td>\n      <td>17:32:00</td>\n      <td>0</td>\n      <td>2015-03-28 17:32:00</td>\n    </tr>\n    <tr>\n      <th>3119</th>\n      <td>53213</td>\n      <td>53213</td>\n      <td>INCIDENTE</td>\n      <td>JUNDIAÍ</td>\n      <td>SP</td>\n      <td>SBJD</td>\n      <td>2015-03-28</td>\n      <td>15:51:00</td>\n      <td>0</td>\n      <td>2015-03-28 15:51:00</td>\n    </tr>\n    <tr>\n      <th>3120</th>\n      <td>53181</td>\n      <td>53181</td>\n      <td>ACIDENTE</td>\n      <td>COLÍDER</td>\n      <td>MT</td>\n      <td>NaN</td>\n      <td>2015-03-29</td>\n      <td>20:17:00</td>\n      <td>0</td>\n      <td>2015-03-29 20:17:00</td>\n    </tr>\n    <tr>\n      <th>3121</th>\n      <td>53187</td>\n      <td>53187</td>\n      <td>INCIDENTE</td>\n      <td>JOINVILLE</td>\n      <td>SC</td>\n      <td>SBJV</td>\n      <td>2015-03-29</td>\n      <td>18:36:00</td>\n      <td>0</td>\n      <td>2015-03-29 18:36:00</td>\n    </tr>\n    <tr>\n      <th>3122</th>\n      <td>53211</td>\n      <td>53211</td>\n      <td>INCIDENTE</td>\n      <td>BAURU</td>\n      <td>SP</td>\n      <td>SBBU</td>\n      <td>2015-03-30</td>\n      <td>19:40:00</td>\n      <td>0</td>\n      <td>2015-03-30 19:40:00</td>\n    </tr>\n  </tbody>\n</table>\n</div>"
     },
     "metadata": {},
     "execution_count": 82
    }
   ],
   "source": [
    "filter_year = df.ocorrencia_data_hora.dt.year == 2015\n",
    "filter_month = df.ocorrencia_data_hora.dt.month == 3\n",
    "df201503 = df.loc[filter_year & filter_month]\n",
    "df201503"
   ]
  },
  {
   "cell_type": "code",
   "execution_count": 84,
   "metadata": {},
   "outputs": [
    {
     "output_type": "execute_result",
     "data": {
      "text/plain": [
       "ocorrencia_classificacao\n",
       "INCIDENTE GRAVE     5\n",
       "ACIDENTE           15\n",
       "INCIDENTE          17\n",
       "dtype: int64"
      ]
     },
     "metadata": {},
     "execution_count": 84
    }
   ],
   "source": [
    "# número de ocorrências de acordo com sua classificação\n",
    "df201503.groupby([\"ocorrencia_classificacao\"]).size().sort_values()"
   ]
  },
  {
   "source": [
    "### Criando novo dataframe contendo dados da região sudeste no ano de 2010"
   ],
   "cell_type": "markdown",
   "metadata": {}
  },
  {
   "cell_type": "code",
   "execution_count": 87,
   "metadata": {},
   "outputs": [
    {
     "output_type": "execute_result",
     "data": {
      "text/plain": [
       "     codigo_ocorrencia  codigo_ocorrencia2 ocorrencia_classificacao  \\\n",
       "0                40211               40211                INCIDENTE   \n",
       "2                40351               40351                INCIDENTE   \n",
       "9                39711               39711          INCIDENTE GRAVE   \n",
       "11               40069               40069                 ACIDENTE   \n",
       "16               39809               39809                INCIDENTE   \n",
       "..                 ...                 ...                      ...   \n",
       "541              43722               43722                 ACIDENTE   \n",
       "544              43548               43548                INCIDENTE   \n",
       "548              43724               43724                 ACIDENTE   \n",
       "550              43730               43730                INCIDENTE   \n",
       "551              43975               43975                INCIDENTE   \n",
       "\n",
       "    ocorrencia_cidade ocorrencia_uf ocorrencia_aerodromo ocorrencia_dia  \\\n",
       "0      RIO DE JANEIRO            RJ                  NaN     2010-01-03   \n",
       "2      RIO DE JANEIRO            RJ                 SBRJ     2010-01-03   \n",
       "9       PARÁ DE MINAS            MG                  NaN     2010-01-10   \n",
       "11          SÃO PAULO            SP                 SBMT     2010-01-10   \n",
       "16          SÃO PAULO            SP                  NaN     2010-01-15   \n",
       "..                ...           ...                  ...            ...   \n",
       "541            CAJOBI            SP                  NaN     2010-12-23   \n",
       "544         SÃO PAULO            SP                 SBSP     2010-12-26   \n",
       "548        COSMÓPOLIS            SP                  NaN     2010-12-29   \n",
       "550           VITÓRIA            ES                  NaN     2010-12-30   \n",
       "551   ARRAIAL DO CABO            RJ                  NaN     2010-12-30   \n",
       "\n",
       "    ocorrencia_hora  total_recomendacoes ocorrencia_data_hora  \n",
       "0          12:00:00                    0  2010-01-03 12:00:00  \n",
       "2          03:00:00                    0  2010-01-03 03:00:00  \n",
       "9          20:00:00                    0  2010-01-10 20:00:00  \n",
       "11         14:50:00                    8  2010-01-10 14:50:00  \n",
       "16         15:00:00                    0  2010-01-15 15:00:00  \n",
       "..              ...                  ...                  ...  \n",
       "541        11:00:00                    0  2010-12-23 11:00:00  \n",
       "544        22:10:00                    0  2010-12-26 22:10:00  \n",
       "548        12:00:00                    0  2010-12-29 12:00:00  \n",
       "550        18:10:00                    0  2010-12-30 18:10:00  \n",
       "551        14:28:00                    0  2010-12-30 14:28:00  \n",
       "\n",
       "[228 rows x 10 columns]"
      ],
      "text/html": "<div>\n<style scoped>\n    .dataframe tbody tr th:only-of-type {\n        vertical-align: middle;\n    }\n\n    .dataframe tbody tr th {\n        vertical-align: top;\n    }\n\n    .dataframe thead th {\n        text-align: right;\n    }\n</style>\n<table border=\"1\" class=\"dataframe\">\n  <thead>\n    <tr style=\"text-align: right;\">\n      <th></th>\n      <th>codigo_ocorrencia</th>\n      <th>codigo_ocorrencia2</th>\n      <th>ocorrencia_classificacao</th>\n      <th>ocorrencia_cidade</th>\n      <th>ocorrencia_uf</th>\n      <th>ocorrencia_aerodromo</th>\n      <th>ocorrencia_dia</th>\n      <th>ocorrencia_hora</th>\n      <th>total_recomendacoes</th>\n      <th>ocorrencia_data_hora</th>\n    </tr>\n  </thead>\n  <tbody>\n    <tr>\n      <th>0</th>\n      <td>40211</td>\n      <td>40211</td>\n      <td>INCIDENTE</td>\n      <td>RIO DE JANEIRO</td>\n      <td>RJ</td>\n      <td>NaN</td>\n      <td>2010-01-03</td>\n      <td>12:00:00</td>\n      <td>0</td>\n      <td>2010-01-03 12:00:00</td>\n    </tr>\n    <tr>\n      <th>2</th>\n      <td>40351</td>\n      <td>40351</td>\n      <td>INCIDENTE</td>\n      <td>RIO DE JANEIRO</td>\n      <td>RJ</td>\n      <td>SBRJ</td>\n      <td>2010-01-03</td>\n      <td>03:00:00</td>\n      <td>0</td>\n      <td>2010-01-03 03:00:00</td>\n    </tr>\n    <tr>\n      <th>9</th>\n      <td>39711</td>\n      <td>39711</td>\n      <td>INCIDENTE GRAVE</td>\n      <td>PARÁ DE MINAS</td>\n      <td>MG</td>\n      <td>NaN</td>\n      <td>2010-01-10</td>\n      <td>20:00:00</td>\n      <td>0</td>\n      <td>2010-01-10 20:00:00</td>\n    </tr>\n    <tr>\n      <th>11</th>\n      <td>40069</td>\n      <td>40069</td>\n      <td>ACIDENTE</td>\n      <td>SÃO PAULO</td>\n      <td>SP</td>\n      <td>SBMT</td>\n      <td>2010-01-10</td>\n      <td>14:50:00</td>\n      <td>8</td>\n      <td>2010-01-10 14:50:00</td>\n    </tr>\n    <tr>\n      <th>16</th>\n      <td>39809</td>\n      <td>39809</td>\n      <td>INCIDENTE</td>\n      <td>SÃO PAULO</td>\n      <td>SP</td>\n      <td>NaN</td>\n      <td>2010-01-15</td>\n      <td>15:00:00</td>\n      <td>0</td>\n      <td>2010-01-15 15:00:00</td>\n    </tr>\n    <tr>\n      <th>...</th>\n      <td>...</td>\n      <td>...</td>\n      <td>...</td>\n      <td>...</td>\n      <td>...</td>\n      <td>...</td>\n      <td>...</td>\n      <td>...</td>\n      <td>...</td>\n      <td>...</td>\n    </tr>\n    <tr>\n      <th>541</th>\n      <td>43722</td>\n      <td>43722</td>\n      <td>ACIDENTE</td>\n      <td>CAJOBI</td>\n      <td>SP</td>\n      <td>NaN</td>\n      <td>2010-12-23</td>\n      <td>11:00:00</td>\n      <td>0</td>\n      <td>2010-12-23 11:00:00</td>\n    </tr>\n    <tr>\n      <th>544</th>\n      <td>43548</td>\n      <td>43548</td>\n      <td>INCIDENTE</td>\n      <td>SÃO PAULO</td>\n      <td>SP</td>\n      <td>SBSP</td>\n      <td>2010-12-26</td>\n      <td>22:10:00</td>\n      <td>0</td>\n      <td>2010-12-26 22:10:00</td>\n    </tr>\n    <tr>\n      <th>548</th>\n      <td>43724</td>\n      <td>43724</td>\n      <td>ACIDENTE</td>\n      <td>COSMÓPOLIS</td>\n      <td>SP</td>\n      <td>NaN</td>\n      <td>2010-12-29</td>\n      <td>12:00:00</td>\n      <td>0</td>\n      <td>2010-12-29 12:00:00</td>\n    </tr>\n    <tr>\n      <th>550</th>\n      <td>43730</td>\n      <td>43730</td>\n      <td>INCIDENTE</td>\n      <td>VITÓRIA</td>\n      <td>ES</td>\n      <td>NaN</td>\n      <td>2010-12-30</td>\n      <td>18:10:00</td>\n      <td>0</td>\n      <td>2010-12-30 18:10:00</td>\n    </tr>\n    <tr>\n      <th>551</th>\n      <td>43975</td>\n      <td>43975</td>\n      <td>INCIDENTE</td>\n      <td>ARRAIAL DO CABO</td>\n      <td>RJ</td>\n      <td>NaN</td>\n      <td>2010-12-30</td>\n      <td>14:28:00</td>\n      <td>0</td>\n      <td>2010-12-30 14:28:00</td>\n    </tr>\n  </tbody>\n</table>\n<p>228 rows × 10 columns</p>\n</div>"
     },
     "metadata": {},
     "execution_count": 87
    }
   ],
   "source": [
    "filter_year = df.ocorrencia_data_hora.dt.year == 2010\n",
    "filter_region = df.ocorrencia_uf.isin((\"MG\", \"RJ\", \"SP\", \"ES\"))\n",
    "dfsoutheast2010 = df.loc[filter_year & filter_region]\n",
    "dfsoutheast2010"
   ]
  },
  {
   "cell_type": "code",
   "execution_count": 89,
   "metadata": {},
   "outputs": [
    {
     "output_type": "execute_result",
     "data": {
      "text/plain": [
       "ocorrencia_classificacao\n",
       "INCIDENTE GRAVE     18\n",
       "ACIDENTE            40\n",
       "INCIDENTE          170\n",
       "dtype: int64"
      ]
     },
     "metadata": {},
     "execution_count": 89
    }
   ],
   "source": [
    "# número de ocorrências de acordo com sua classificação\n",
    "dfsoutheast2010.groupby([\"ocorrencia_classificacao\"]).size().sort_values()"
   ]
  },
  {
   "cell_type": "code",
   "execution_count": 91,
   "metadata": {},
   "outputs": [
    {
     "output_type": "execute_result",
     "data": {
      "text/plain": [
       "ocorrencia_classificacao  ocorrencia_uf\n",
       "ACIDENTE                  MG                7\n",
       "                          RJ                9\n",
       "                          SP               24\n",
       "INCIDENTE                 ES                5\n",
       "                          MG               39\n",
       "                          RJ               52\n",
       "                          SP               74\n",
       "INCIDENTE GRAVE           MG                5\n",
       "                          RJ                4\n",
       "                          SP                9\n",
       "dtype: int64"
      ]
     },
     "metadata": {},
     "execution_count": 91
    }
   ],
   "source": [
    "# número de ocorrências de acordo com sua classificação por estado\n",
    "dfsoutheast2010.groupby([\"ocorrencia_classificacao\", \"ocorrencia_uf\"]).size()"
   ]
  },
  {
   "cell_type": "code",
   "execution_count": 92,
   "metadata": {},
   "outputs": [
    {
     "output_type": "execute_result",
     "data": {
      "text/plain": [
       "ocorrencia_cidade\n",
       "RIO DE JANEIRO           47\n",
       "SÃO PAULO                33\n",
       "GUARULHOS                18\n",
       "BELO HORIZONTE           17\n",
       "CAMPINAS                 13\n",
       "MACAÉ                    12\n",
       "CONFINS                   7\n",
       "UBERLÂNDIA                5\n",
       "JUIZ DE FORA              4\n",
       "VITÓRIA                   4\n",
       "MARÍLIA                   3\n",
       "SÃO JOSÉ DOS CAMPOS       3\n",
       "SÃO JOSÉ DO RIO PRETO     3\n",
       "SOROCABA                  2\n",
       "ITANHAÉM                  2\n",
       "RIBEIRÃO PRETO            2\n",
       "IPATINGA                  2\n",
       "POÇOS DE CALDAS           2\n",
       "DIVINÓPOLIS               2\n",
       "BAURU                     2\n",
       "JUNDIAÍ                   2\n",
       "ARARAQUARA                2\n",
       "CAMPOS DOS GOYTACAZES     2\n",
       "AREALVA                   2\n",
       "MONTES CLAROS             2\n",
       "UBERABA                   2\n",
       "POUSO ALEGRE              1\n",
       "PIRACICABA                1\n",
       "PIRASSUNUNGA              1\n",
       "ARRAIAL DO CABO           1\n",
       "RESENDE                   1\n",
       "PENÁPOLIS                 1\n",
       "SANTOS                    1\n",
       "SERRA NEGRA               1\n",
       "SÃO BERNARDO DO CAMPO     1\n",
       "TIMÓTEO                   1\n",
       "ARAÇATUBA                 1\n",
       "PIACATU                   1\n",
       "BOM JESUS DO AMPARO       1\n",
       "PARÁ DE MINAS             1\n",
       "OLÍMPIA                   1\n",
       "BRAGANÇA PAULISTA         1\n",
       "BROTAS                    1\n",
       "CAJOBI                    1\n",
       "CAMANDUCAIA               1\n",
       "BOITUVA                   1\n",
       "CASIMIRO DE ABREU         1\n",
       "BOCAINA                   1\n",
       "COROMANDEL                1\n",
       "COSMÓPOLIS                1\n",
       "DIAMANTINA                1\n",
       "BEBEDOURO                 1\n",
       "IPERÓ                     1\n",
       "ITÁPOLIS                  1\n",
       "LINHARES                  1\n",
       "MANGARATIBA               1\n",
       "BOM JESUS DO GALHO        1\n",
       "NOVO HORIZONTE            1\n",
       "AMERICANA                 1\n",
       "dtype: int64"
      ]
     },
     "metadata": {},
     "execution_count": 92
    }
   ],
   "source": [
    "# número de ocorrências por cidade em ordem decrescente\n",
    "dfsoutheast2010.groupby([\"ocorrencia_cidade\"]).size().sort_values(ascending=False)"
   ]
  },
  {
   "cell_type": "code",
   "execution_count": 93,
   "metadata": {},
   "outputs": [
    {
     "output_type": "execute_result",
     "data": {
      "text/plain": [
       "ocorrencia_aerodromo\n",
       "SBAE     0\n",
       "SBAQ     0\n",
       "SBBH     0\n",
       "SBBP     9\n",
       "SBBU     0\n",
       "SBCF     0\n",
       "SBGL     3\n",
       "SBGR     0\n",
       "SBIP     0\n",
       "SBJD     7\n",
       "SBJR     3\n",
       "SBKP     0\n",
       "SBME     0\n",
       "SBMK     0\n",
       "SBML     0\n",
       "SBMT    27\n",
       "SBPC     0\n",
       "SBPR     1\n",
       "SBRJ    19\n",
       "SBRP     0\n",
       "SBSJ     0\n",
       "SBSP     0\n",
       "SBSR     0\n",
       "SBUL     0\n",
       "SBUR     0\n",
       "SBVT     0\n",
       "SDAM     0\n",
       "SDOI     1\n",
       "SDPW     0\n",
       "SDPY     0\n",
       "SNDT     0\n",
       "SNDV     0\n",
       "SNXT     0\n",
       "NaN     45\n",
       "Name: total_recomendacoes, dtype: int64"
      ]
     },
     "metadata": {},
     "execution_count": 93
    }
   ],
   "source": [
    "# número de recomendações por aeródromo\n",
    "dfsoutheast2010.groupby([\"ocorrencia_aerodromo\"], dropna=False).total_recomendacoes.sum()"
   ]
  },
  {
   "cell_type": "code",
   "execution_count": 95,
   "metadata": {},
   "outputs": [
    {
     "output_type": "execute_result",
     "data": {
      "text/plain": [
       "ocorrencia_cidade\n",
       "BOITUVA                   1\n",
       "BOM JESUS DO GALHO        1\n",
       "ITANHAÉM                  1\n",
       "BELO HORIZONTE            2\n",
       "SÃO BERNARDO DO CAMPO     2\n",
       "IPERÓ                     3\n",
       "NOVO HORIZONTE            3\n",
       "TIMÓTEO                   3\n",
       "JUNDIAÍ                   7\n",
       "RESENDE                   8\n",
       "BRAGANÇA PAULISTA         9\n",
       "CAMANDUCAIA               9\n",
       "RIO DE JANEIRO           25\n",
       "SÃO PAULO                41\n",
       "Name: total_recomendacoes, dtype: int64"
      ]
     },
     "metadata": {},
     "execution_count": 95
    }
   ],
   "source": [
    "# número de recomnedações por cidade (excluindo cidades que não possuem)\n",
    "filter = dfsoutheast2010.total_recomendacoes > 0\n",
    "dfsoutheast2010.loc[filter].groupby([\"ocorrencia_cidade\"]).total_recomendacoes.sum().sort_values()"
   ]
  },
  {
   "cell_type": "code",
   "execution_count": 96,
   "metadata": {},
   "outputs": [
    {
     "output_type": "execute_result",
     "data": {
      "text/plain": [
       "ocorrencia_cidade      ocorrencia_data_hora\n",
       "BELO HORIZONTE         2                        1\n",
       "                       3                        1\n",
       "BOITUVA                7                        1\n",
       "BOM JESUS DO GALHO     12                       1\n",
       "BRAGANÇA PAULISTA      11                       9\n",
       "CAMANDUCAIA            7                        9\n",
       "IPERÓ                  1                        3\n",
       "ITANHAÉM               9                        1\n",
       "JUNDIAÍ                5                        5\n",
       "                       6                        2\n",
       "NOVO HORIZONTE         7                        3\n",
       "RESENDE                4                        8\n",
       "RIO DE JANEIRO         4                        3\n",
       "                       7                        3\n",
       "                       8                       19\n",
       "SÃO BERNARDO DO CAMPO  1                        2\n",
       "SÃO PAULO              1                        8\n",
       "                       2                       14\n",
       "                       6                        2\n",
       "                       11                       6\n",
       "                       12                      11\n",
       "TIMÓTEO                2                        3\n",
       "Name: total_recomendacoes, dtype: int64"
      ]
     },
     "metadata": {},
     "execution_count": 96
    }
   ],
   "source": [
    "# número de recomnedações por cidade e por mês (excluindo cidades que não possuem)\n",
    "dfsoutheast2010.loc[filter].groupby([\"ocorrencia_cidade\", dfsoutheast2010.ocorrencia_data_hora.dt.month]).total_recomendacoes.sum()"
   ]
  }
 ]
}