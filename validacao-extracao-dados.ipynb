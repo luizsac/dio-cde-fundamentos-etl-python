{
 "metadata": {
  "language_info": {
   "codemirror_mode": {
    "name": "ipython",
    "version": 3
   },
   "file_extension": ".py",
   "mimetype": "text/x-python",
   "name": "python",
   "nbconvert_exporter": "python",
   "pygments_lexer": "ipython3",
   "version": "3.8.8"
  },
  "orig_nbformat": 4,
  "kernelspec": {
   "name": "python3",
   "display_name": "Python 3.8.8 64-bit ('base': conda)"
  },
  "interpreter": {
   "hash": "8a1dc5efcdbc80be4ce3e96a600c5a7e8bdbf2570da378044fe339c19ce4fdea"
  }
 },
 "nbformat": 4,
 "nbformat_minor": 2,
 "cells": [
  {
   "source": [
    "# Carrefour Data Engineer Bootcamp\n",
    "## Fundamentos de ETL com Python\n",
    "### Aula: Desenvolvimento do projeto ETL - Extração e validação\n",
    "### Dataset: Ocorrências Aeronáuticas\n",
    "http://sistema.cenipa.aer.mil.br/cenipa/media/opendata/ocorrencia_2010_2020.csv\n",
    "\n"
   ],
   "cell_type": "markdown",
   "metadata": {}
  },
  {
   "source": [
    "### Importando bibliotecas necessárias"
   ],
   "cell_type": "markdown",
   "metadata": {}
  },
  {
   "cell_type": "code",
   "execution_count": 2,
   "metadata": {},
   "outputs": [],
   "source": [
    "import pandas as pd\n",
    "import pandera as pa"
   ]
  },
  {
   "source": [
    "---\n",
    "# Extração"
   ],
   "cell_type": "markdown",
   "metadata": {}
  },
  {
   "source": [
    "### Lendo arquivo csv"
   ],
   "cell_type": "markdown",
   "metadata": {}
  },
  {
   "cell_type": "code",
   "execution_count": 13,
   "metadata": {},
   "outputs": [
    {
     "output_type": "execute_result",
     "data": {
      "text/plain": [
       "   codigo_ocorrencia  codigo_ocorrencia1  codigo_ocorrencia2  \\\n",
       "0              40211               40211               40211   \n",
       "1              40349               40349               40349   \n",
       "2              40351               40351               40351   \n",
       "3              39527               39527               39527   \n",
       "4              40324               40324               40324   \n",
       "\n",
       "   codigo_ocorrencia3  codigo_ocorrencia4 ocorrencia_classificacao  \\\n",
       "0               40211               40211                INCIDENTE   \n",
       "1               40349               40349                INCIDENTE   \n",
       "2               40351               40351                INCIDENTE   \n",
       "3               39527               39527                 ACIDENTE   \n",
       "4               40324               40324                INCIDENTE   \n",
       "\n",
       "  ocorrencia_latitude ocorrencia_longitude   ocorrencia_cidade ocorrencia_uf  \\\n",
       "0                 ***                  ***      RIO DE JANEIRO            RJ   \n",
       "1                 NaN                  NaN               BELÉM            PA   \n",
       "2                 NaN                  NaN      RIO DE JANEIRO            RJ   \n",
       "3      -13.1066666667       -55.9930555556  LUCAS DO RIO VERDE            MT   \n",
       "4                 NaN                  NaN             PELOTAS            RS   \n",
       "\n",
       "   ... ocorrencia_dia ocorrencia_hora investigacao_aeronave_liberada  \\\n",
       "0  ...     2010-01-03        12:00:00                            SIM   \n",
       "1  ...     2010-01-03        11:05:00                            SIM   \n",
       "2  ...     2010-01-03        03:00:00                            SIM   \n",
       "3  ...     2010-01-04        17:30:00                            SIM   \n",
       "4  ...     2010-01-05        19:25:00                            SIM   \n",
       "\n",
       "  investigacao_status divulgacao_relatorio_numero  \\\n",
       "0          FINALIZADA                         ***   \n",
       "1          FINALIZADA                         NaN   \n",
       "2          FINALIZADA                         NaN   \n",
       "3          FINALIZADA           A-539/CENIPA/2018   \n",
       "4          FINALIZADA                         NaN   \n",
       "\n",
       "  divulgacao_relatorio_publicado divulgacao_dia_publicacao  \\\n",
       "0                            NÃO                       NaN   \n",
       "1                            NÃO                       NaN   \n",
       "2                            NÃO                       NaN   \n",
       "3                            SIM                2019-10-28   \n",
       "4                            NÃO                       NaN   \n",
       "\n",
       "  total_recomendacoes total_aeronaves_envolvidas  ocorrencia_saida_pista  \n",
       "0                   0                          1                     NÃO  \n",
       "1                   0                          1                     NÃO  \n",
       "2                   0                          1                     NÃO  \n",
       "3                   0                          1                     NÃO  \n",
       "4                   0                          1                     NÃO  \n",
       "\n",
       "[5 rows x 22 columns]"
      ],
      "text/html": "<div>\n<style scoped>\n    .dataframe tbody tr th:only-of-type {\n        vertical-align: middle;\n    }\n\n    .dataframe tbody tr th {\n        vertical-align: top;\n    }\n\n    .dataframe thead th {\n        text-align: right;\n    }\n</style>\n<table border=\"1\" class=\"dataframe\">\n  <thead>\n    <tr style=\"text-align: right;\">\n      <th></th>\n      <th>codigo_ocorrencia</th>\n      <th>codigo_ocorrencia1</th>\n      <th>codigo_ocorrencia2</th>\n      <th>codigo_ocorrencia3</th>\n      <th>codigo_ocorrencia4</th>\n      <th>ocorrencia_classificacao</th>\n      <th>ocorrencia_latitude</th>\n      <th>ocorrencia_longitude</th>\n      <th>ocorrencia_cidade</th>\n      <th>ocorrencia_uf</th>\n      <th>...</th>\n      <th>ocorrencia_dia</th>\n      <th>ocorrencia_hora</th>\n      <th>investigacao_aeronave_liberada</th>\n      <th>investigacao_status</th>\n      <th>divulgacao_relatorio_numero</th>\n      <th>divulgacao_relatorio_publicado</th>\n      <th>divulgacao_dia_publicacao</th>\n      <th>total_recomendacoes</th>\n      <th>total_aeronaves_envolvidas</th>\n      <th>ocorrencia_saida_pista</th>\n    </tr>\n  </thead>\n  <tbody>\n    <tr>\n      <th>0</th>\n      <td>40211</td>\n      <td>40211</td>\n      <td>40211</td>\n      <td>40211</td>\n      <td>40211</td>\n      <td>INCIDENTE</td>\n      <td>***</td>\n      <td>***</td>\n      <td>RIO DE JANEIRO</td>\n      <td>RJ</td>\n      <td>...</td>\n      <td>2010-01-03</td>\n      <td>12:00:00</td>\n      <td>SIM</td>\n      <td>FINALIZADA</td>\n      <td>***</td>\n      <td>NÃO</td>\n      <td>NaN</td>\n      <td>0</td>\n      <td>1</td>\n      <td>NÃO</td>\n    </tr>\n    <tr>\n      <th>1</th>\n      <td>40349</td>\n      <td>40349</td>\n      <td>40349</td>\n      <td>40349</td>\n      <td>40349</td>\n      <td>INCIDENTE</td>\n      <td>NaN</td>\n      <td>NaN</td>\n      <td>BELÉM</td>\n      <td>PA</td>\n      <td>...</td>\n      <td>2010-01-03</td>\n      <td>11:05:00</td>\n      <td>SIM</td>\n      <td>FINALIZADA</td>\n      <td>NaN</td>\n      <td>NÃO</td>\n      <td>NaN</td>\n      <td>0</td>\n      <td>1</td>\n      <td>NÃO</td>\n    </tr>\n    <tr>\n      <th>2</th>\n      <td>40351</td>\n      <td>40351</td>\n      <td>40351</td>\n      <td>40351</td>\n      <td>40351</td>\n      <td>INCIDENTE</td>\n      <td>NaN</td>\n      <td>NaN</td>\n      <td>RIO DE JANEIRO</td>\n      <td>RJ</td>\n      <td>...</td>\n      <td>2010-01-03</td>\n      <td>03:00:00</td>\n      <td>SIM</td>\n      <td>FINALIZADA</td>\n      <td>NaN</td>\n      <td>NÃO</td>\n      <td>NaN</td>\n      <td>0</td>\n      <td>1</td>\n      <td>NÃO</td>\n    </tr>\n    <tr>\n      <th>3</th>\n      <td>39527</td>\n      <td>39527</td>\n      <td>39527</td>\n      <td>39527</td>\n      <td>39527</td>\n      <td>ACIDENTE</td>\n      <td>-13.1066666667</td>\n      <td>-55.9930555556</td>\n      <td>LUCAS DO RIO VERDE</td>\n      <td>MT</td>\n      <td>...</td>\n      <td>2010-01-04</td>\n      <td>17:30:00</td>\n      <td>SIM</td>\n      <td>FINALIZADA</td>\n      <td>A-539/CENIPA/2018</td>\n      <td>SIM</td>\n      <td>2019-10-28</td>\n      <td>0</td>\n      <td>1</td>\n      <td>NÃO</td>\n    </tr>\n    <tr>\n      <th>4</th>\n      <td>40324</td>\n      <td>40324</td>\n      <td>40324</td>\n      <td>40324</td>\n      <td>40324</td>\n      <td>INCIDENTE</td>\n      <td>NaN</td>\n      <td>NaN</td>\n      <td>PELOTAS</td>\n      <td>RS</td>\n      <td>...</td>\n      <td>2010-01-05</td>\n      <td>19:25:00</td>\n      <td>SIM</td>\n      <td>FINALIZADA</td>\n      <td>NaN</td>\n      <td>NÃO</td>\n      <td>NaN</td>\n      <td>0</td>\n      <td>1</td>\n      <td>NÃO</td>\n    </tr>\n  </tbody>\n</table>\n<p>5 rows × 22 columns</p>\n</div>"
     },
     "metadata": {},
     "execution_count": 13
    }
   ],
   "source": [
    "df = pd.read_csv(\"ocorrencia_2010_2020.csv\", delimiter=\";\", parse_dates=[\"ocorrencia_dia\"], dayfirst=True)\n",
    "df.head()"
   ]
  },
  {
   "source": [
    "### Removendo colunas que não serão utilizadas"
   ],
   "cell_type": "markdown",
   "metadata": {}
  },
  {
   "cell_type": "code",
   "execution_count": 14,
   "metadata": {},
   "outputs": [
    {
     "output_type": "execute_result",
     "data": {
      "text/plain": [
       "   codigo_ocorrencia  codigo_ocorrencia2 ocorrencia_classificacao  \\\n",
       "0              40211               40211                INCIDENTE   \n",
       "1              40349               40349                INCIDENTE   \n",
       "2              40351               40351                INCIDENTE   \n",
       "3              39527               39527                 ACIDENTE   \n",
       "4              40324               40324                INCIDENTE   \n",
       "\n",
       "    ocorrencia_cidade ocorrencia_uf ocorrencia_aerodromo ocorrencia_dia  \\\n",
       "0      RIO DE JANEIRO            RJ                 ****     2010-01-03   \n",
       "1               BELÉM            PA                 SBBE     2010-01-03   \n",
       "2      RIO DE JANEIRO            RJ                 SBRJ     2010-01-03   \n",
       "3  LUCAS DO RIO VERDE            MT                 ****     2010-01-04   \n",
       "4             PELOTAS            RS                 SBPK     2010-01-05   \n",
       "\n",
       "  ocorrencia_hora  total_recomendacoes  \n",
       "0        12:00:00                    0  \n",
       "1        11:05:00                    0  \n",
       "2        03:00:00                    0  \n",
       "3        17:30:00                    0  \n",
       "4        19:25:00                    0  "
      ],
      "text/html": "<div>\n<style scoped>\n    .dataframe tbody tr th:only-of-type {\n        vertical-align: middle;\n    }\n\n    .dataframe tbody tr th {\n        vertical-align: top;\n    }\n\n    .dataframe thead th {\n        text-align: right;\n    }\n</style>\n<table border=\"1\" class=\"dataframe\">\n  <thead>\n    <tr style=\"text-align: right;\">\n      <th></th>\n      <th>codigo_ocorrencia</th>\n      <th>codigo_ocorrencia2</th>\n      <th>ocorrencia_classificacao</th>\n      <th>ocorrencia_cidade</th>\n      <th>ocorrencia_uf</th>\n      <th>ocorrencia_aerodromo</th>\n      <th>ocorrencia_dia</th>\n      <th>ocorrencia_hora</th>\n      <th>total_recomendacoes</th>\n    </tr>\n  </thead>\n  <tbody>\n    <tr>\n      <th>0</th>\n      <td>40211</td>\n      <td>40211</td>\n      <td>INCIDENTE</td>\n      <td>RIO DE JANEIRO</td>\n      <td>RJ</td>\n      <td>****</td>\n      <td>2010-01-03</td>\n      <td>12:00:00</td>\n      <td>0</td>\n    </tr>\n    <tr>\n      <th>1</th>\n      <td>40349</td>\n      <td>40349</td>\n      <td>INCIDENTE</td>\n      <td>BELÉM</td>\n      <td>PA</td>\n      <td>SBBE</td>\n      <td>2010-01-03</td>\n      <td>11:05:00</td>\n      <td>0</td>\n    </tr>\n    <tr>\n      <th>2</th>\n      <td>40351</td>\n      <td>40351</td>\n      <td>INCIDENTE</td>\n      <td>RIO DE JANEIRO</td>\n      <td>RJ</td>\n      <td>SBRJ</td>\n      <td>2010-01-03</td>\n      <td>03:00:00</td>\n      <td>0</td>\n    </tr>\n    <tr>\n      <th>3</th>\n      <td>39527</td>\n      <td>39527</td>\n      <td>ACIDENTE</td>\n      <td>LUCAS DO RIO VERDE</td>\n      <td>MT</td>\n      <td>****</td>\n      <td>2010-01-04</td>\n      <td>17:30:00</td>\n      <td>0</td>\n    </tr>\n    <tr>\n      <th>4</th>\n      <td>40324</td>\n      <td>40324</td>\n      <td>INCIDENTE</td>\n      <td>PELOTAS</td>\n      <td>RS</td>\n      <td>SBPK</td>\n      <td>2010-01-05</td>\n      <td>19:25:00</td>\n      <td>0</td>\n    </tr>\n  </tbody>\n</table>\n</div>"
     },
     "metadata": {},
     "execution_count": 14
    }
   ],
   "source": [
    "df.drop([\"codigo_ocorrencia1\", \"codigo_ocorrencia3\", \"codigo_ocorrencia4\", \"ocorrencia_latitude\", \"ocorrencia_longitude\", \"ocorrencia_pais\", \"investigacao_aeronave_liberada\", \"investigacao_status\", \"divulgacao_relatorio_numero\", \"divulgacao_relatorio_publicado\", \"divulgacao_dia_publicacao\", \"total_aeronaves_envolvidas\", \"ocorrencia_saida_pista\"], inplace=True, axis=1)\n",
    "df.head()"
   ]
  },
  {
   "source": [
    "---\n",
    "# Validação"
   ],
   "cell_type": "markdown",
   "metadata": {}
  },
  {
   "cell_type": "code",
   "execution_count": 5,
   "metadata": {},
   "outputs": [
    {
     "output_type": "execute_result",
     "data": {
      "text/plain": [
       "codigo_ocorrencia                    int64\n",
       "codigo_ocorrencia2                   int64\n",
       "ocorrencia_classificacao            object\n",
       "ocorrencia_cidade                   object\n",
       "ocorrencia_uf                       object\n",
       "ocorrencia_aerodromo                object\n",
       "ocorrencia_dia              datetime64[ns]\n",
       "ocorrencia_hora                     object\n",
       "total_recomendacoes                  int64\n",
       "dtype: object"
      ]
     },
     "metadata": {},
     "execution_count": 5
    }
   ],
   "source": [
    "df.dtypes\n",
    "# df.ocorrencia_dia.dt.month"
   ]
  },
  {
   "source": [
    "### Criando schema de validação"
   ],
   "cell_type": "markdown",
   "metadata": {}
  },
  {
   "cell_type": "code",
   "execution_count": 26,
   "metadata": {},
   "outputs": [],
   "source": [
    "schema = pa.DataFrameSchema(\n",
    "    columns = {\n",
    "        \"codigo_ocorrencia\": pa.Column(pa.Int),\n",
    "        \"codigo_ocorrencia2\": pa.Column(pa.Int),\n",
    "        \"ocorrencia_classificacao\": pa.Column(pa.String),\n",
    "        \"ocorrencia_cidade\": pa.Column(pa.String),\n",
    "        \"ocorrencia_uf\": pa.Column(pa.String, pa.Check.str_length(2, 3), ),  # 3 para evitar erros com ***\n",
    "        \"ocorrencia_aerodromo\": pa.Column(pa.String),\n",
    "        \"ocorrencia_dia\": pa.Column(pa.DateTime),\n",
    "        \"ocorrencia_hora\": pa.Column(pa.String, pa.Check.str_matches(\n",
    "            r\"^([0-1]?[0-9]|[2][0-3]):([0-5][0-9]):([0-5][0-9])?$\"), nullable=True),\n",
    "        \"total_recomendacoes\": pa.Column(pa.Int),\n",
    "    }\n",
    ")"
   ]
  },
  {
   "source": [
    "### Validando DataFrame"
   ],
   "cell_type": "markdown",
   "metadata": {}
  },
  {
   "cell_type": "code",
   "execution_count": 27,
   "metadata": {},
   "outputs": [
    {
     "output_type": "execute_result",
     "data": {
      "text/plain": [
       "      codigo_ocorrencia  codigo_ocorrencia2 ocorrencia_classificacao  \\\n",
       "0                 40211               40211                INCIDENTE   \n",
       "1                 40349               40349                INCIDENTE   \n",
       "2                 40351               40351                INCIDENTE   \n",
       "3                 39527               39527                 ACIDENTE   \n",
       "4                 40324               40324                INCIDENTE   \n",
       "...                 ...                 ...                      ...   \n",
       "5747              79804               79804                INCIDENTE   \n",
       "5748              79757               79757          INCIDENTE GRAVE   \n",
       "5749              79802               79802                INCIDENTE   \n",
       "5750              79756               79756          INCIDENTE GRAVE   \n",
       "5751              79844               79844                INCIDENTE   \n",
       "\n",
       "       ocorrencia_cidade ocorrencia_uf ocorrencia_aerodromo ocorrencia_dia  \\\n",
       "0         RIO DE JANEIRO            RJ                 ****     2010-01-03   \n",
       "1                  BELÉM            PA                 SBBE     2010-01-03   \n",
       "2         RIO DE JANEIRO            RJ                 SBRJ     2010-01-03   \n",
       "3     LUCAS DO RIO VERDE            MT                 ****     2010-01-04   \n",
       "4                PELOTAS            RS                 SBPK     2010-01-05   \n",
       "...                  ...           ...                  ...            ...   \n",
       "5747            CAMPINAS            SP                 SBKP     2020-12-29   \n",
       "5748   LAGOA DA CONFUSÃO            TO                 ****     2020-12-30   \n",
       "5749      RIO DE JANEIRO            RJ                 SBGL     2020-12-30   \n",
       "5750           VICENTINA            MS                 ****     2020-12-31   \n",
       "5751      RIO DE JANEIRO            RJ                 SBJR     2020-12-31   \n",
       "\n",
       "     ocorrencia_hora  total_recomendacoes  \n",
       "0           12:00:00                    0  \n",
       "1           11:05:00                    0  \n",
       "2           03:00:00                    0  \n",
       "3           17:30:00                    0  \n",
       "4           19:25:00                    0  \n",
       "...              ...                  ...  \n",
       "5747        19:00:00                    0  \n",
       "5748        18:30:00                    0  \n",
       "5749        00:54:00                    0  \n",
       "5750        09:00:00                    0  \n",
       "5751        13:24:00                    0  \n",
       "\n",
       "[5752 rows x 9 columns]"
      ],
      "text/html": "<div>\n<style scoped>\n    .dataframe tbody tr th:only-of-type {\n        vertical-align: middle;\n    }\n\n    .dataframe tbody tr th {\n        vertical-align: top;\n    }\n\n    .dataframe thead th {\n        text-align: right;\n    }\n</style>\n<table border=\"1\" class=\"dataframe\">\n  <thead>\n    <tr style=\"text-align: right;\">\n      <th></th>\n      <th>codigo_ocorrencia</th>\n      <th>codigo_ocorrencia2</th>\n      <th>ocorrencia_classificacao</th>\n      <th>ocorrencia_cidade</th>\n      <th>ocorrencia_uf</th>\n      <th>ocorrencia_aerodromo</th>\n      <th>ocorrencia_dia</th>\n      <th>ocorrencia_hora</th>\n      <th>total_recomendacoes</th>\n    </tr>\n  </thead>\n  <tbody>\n    <tr>\n      <th>0</th>\n      <td>40211</td>\n      <td>40211</td>\n      <td>INCIDENTE</td>\n      <td>RIO DE JANEIRO</td>\n      <td>RJ</td>\n      <td>****</td>\n      <td>2010-01-03</td>\n      <td>12:00:00</td>\n      <td>0</td>\n    </tr>\n    <tr>\n      <th>1</th>\n      <td>40349</td>\n      <td>40349</td>\n      <td>INCIDENTE</td>\n      <td>BELÉM</td>\n      <td>PA</td>\n      <td>SBBE</td>\n      <td>2010-01-03</td>\n      <td>11:05:00</td>\n      <td>0</td>\n    </tr>\n    <tr>\n      <th>2</th>\n      <td>40351</td>\n      <td>40351</td>\n      <td>INCIDENTE</td>\n      <td>RIO DE JANEIRO</td>\n      <td>RJ</td>\n      <td>SBRJ</td>\n      <td>2010-01-03</td>\n      <td>03:00:00</td>\n      <td>0</td>\n    </tr>\n    <tr>\n      <th>3</th>\n      <td>39527</td>\n      <td>39527</td>\n      <td>ACIDENTE</td>\n      <td>LUCAS DO RIO VERDE</td>\n      <td>MT</td>\n      <td>****</td>\n      <td>2010-01-04</td>\n      <td>17:30:00</td>\n      <td>0</td>\n    </tr>\n    <tr>\n      <th>4</th>\n      <td>40324</td>\n      <td>40324</td>\n      <td>INCIDENTE</td>\n      <td>PELOTAS</td>\n      <td>RS</td>\n      <td>SBPK</td>\n      <td>2010-01-05</td>\n      <td>19:25:00</td>\n      <td>0</td>\n    </tr>\n    <tr>\n      <th>...</th>\n      <td>...</td>\n      <td>...</td>\n      <td>...</td>\n      <td>...</td>\n      <td>...</td>\n      <td>...</td>\n      <td>...</td>\n      <td>...</td>\n      <td>...</td>\n    </tr>\n    <tr>\n      <th>5747</th>\n      <td>79804</td>\n      <td>79804</td>\n      <td>INCIDENTE</td>\n      <td>CAMPINAS</td>\n      <td>SP</td>\n      <td>SBKP</td>\n      <td>2020-12-29</td>\n      <td>19:00:00</td>\n      <td>0</td>\n    </tr>\n    <tr>\n      <th>5748</th>\n      <td>79757</td>\n      <td>79757</td>\n      <td>INCIDENTE GRAVE</td>\n      <td>LAGOA DA CONFUSÃO</td>\n      <td>TO</td>\n      <td>****</td>\n      <td>2020-12-30</td>\n      <td>18:30:00</td>\n      <td>0</td>\n    </tr>\n    <tr>\n      <th>5749</th>\n      <td>79802</td>\n      <td>79802</td>\n      <td>INCIDENTE</td>\n      <td>RIO DE JANEIRO</td>\n      <td>RJ</td>\n      <td>SBGL</td>\n      <td>2020-12-30</td>\n      <td>00:54:00</td>\n      <td>0</td>\n    </tr>\n    <tr>\n      <th>5750</th>\n      <td>79756</td>\n      <td>79756</td>\n      <td>INCIDENTE GRAVE</td>\n      <td>VICENTINA</td>\n      <td>MS</td>\n      <td>****</td>\n      <td>2020-12-31</td>\n      <td>09:00:00</td>\n      <td>0</td>\n    </tr>\n    <tr>\n      <th>5751</th>\n      <td>79844</td>\n      <td>79844</td>\n      <td>INCIDENTE</td>\n      <td>RIO DE JANEIRO</td>\n      <td>RJ</td>\n      <td>SBJR</td>\n      <td>2020-12-31</td>\n      <td>13:24:00</td>\n      <td>0</td>\n    </tr>\n  </tbody>\n</table>\n<p>5752 rows × 9 columns</p>\n</div>"
     },
     "metadata": {},
     "execution_count": 27
    }
   ],
   "source": [
    "schema.validate(df)"
   ]
  }
 ]
}